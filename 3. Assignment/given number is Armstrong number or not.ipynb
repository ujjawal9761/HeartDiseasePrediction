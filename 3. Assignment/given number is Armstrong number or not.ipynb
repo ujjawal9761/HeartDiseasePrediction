Programm for Armstrong no.
{
 "cells": [
  {
   "cell_type": "code",
   "execution_count": 3,
   "metadata": {},
   "outputs": [],
   "source": [
    "def checkArmstrong(i):\n",
    "    #loop to count no of digits in the number\n",
    "    temp,noofdigits=i,0\n",
    "    while(temp > 0):\n",
    "        noofdigits+=1\n",
    "        temp//=10\n",
    "            \n",
    "    #loop to check for the no\n",
    "    temp,sum_=i,0\n",
    "    while(temp > 0):\n",
    "        digit=temp%10\n",
    "        sum_+=digit**noofdigits\n",
    "        temp//=10\n",
    "    if(sum_==i):\n",
    "        print(\"Armstrong\")\n",
    "    else:\n",
    "        print(\"Not Armstrong\")"
   ]
  },
  {
   "cell_type": "code",
   "execution_count": 4,
   "metadata": {},
   "outputs": [
    {
     "name": "stdout",
     "output_type": "stream",
     "text": [
      "Armstrong\n"
     ]
    }
   ],
   "source": [
    "checkArmstrong(407)"
   ]
  },
  {
   "cell_type": "code",
   "execution_count": 5,
   "metadata": {},
   "outputs": [
    {
     "name": "stdout",
     "output_type": "stream",
     "text": [
      "Not Armstrong\n"
     ]
    }
   ],
   "source": [
    "checkArmstrong(123)"
   ]
  },
  {
   "cell_type": "code",
   "execution_count": 6,
   "metadata": {},
   "outputs": [
    {
     "name": "stdout",
     "output_type": "stream",
     "text": [
      "Armstrong\n"
     ]
    }
   ],
   "source": [
    "checkArmstrong(1634)"
   ]
  }
 ],
 "metadata": {
  "kernelspec": {
   "display_name": "Python 3",
   "language": "python",
   "name": "python3"
  },
  "language_info": {
   "codemirror_mode": {
    "name": "ipython",
    "version": 3
   },
   "file_extension": ".py",
   "mimetype": "text/x-python",
   "name": "python",
   "nbconvert_exporter": "python",
   "pygments_lexer": "ipython3",
   "version": "3.6.9"
  }
 },
 "nbformat": 4,
 "nbformat_minor": 2
}
